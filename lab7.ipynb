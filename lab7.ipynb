{
 "cells": [
  {
   "cell_type": "code",
   "execution_count": 1,
   "id": "initial_id",
   "metadata": {
    "collapsed": true,
    "ExecuteTime": {
     "end_time": "2023-11-14T16:35:14.996070200Z",
     "start_time": "2023-11-14T16:35:13.587513200Z"
    }
   },
   "outputs": [],
   "source": [
    "import pandas as pd\n",
    "import numpy as np"
   ]
  },
  {
   "cell_type": "code",
   "execution_count": 2,
   "outputs": [],
   "source": [
    "df = pd.read_csv(\"lab3.csv\")"
   ],
   "metadata": {
    "collapsed": false,
    "ExecuteTime": {
     "end_time": "2023-11-14T16:35:15.063729100Z",
     "start_time": "2023-11-14T16:35:14.999921200Z"
    }
   },
   "id": "2ac49da1581c5cc7"
  },
  {
   "cell_type": "code",
   "execution_count": 3,
   "outputs": [
    {
     "data": {
      "text/plain": "     Category                                            Message\n0         ham  Go until jurong point, crazy.. Available only ...\n1         ham                      Ok lar... Joking wif u oni...\n2        spam  Free entry in 2 a wkly comp to win FA Cup fina...\n3         ham  U dun say so early hor... U c already then say...\n4         ham  Nah I don't think he goes to usf, he lives aro...\n...       ...                                                ...\n5567     spam  This is the 2nd time we have tried 2 contact u...\n5568      ham               Will ü b going to esplanade fr home?\n5569      ham  Pity, * was in mood for that. So...any other s...\n5570      ham  The guy did some bitching but I acted like i'd...\n5571      ham                         Rofl. Its true to its name\n\n[5572 rows x 2 columns]",
      "text/html": "<div>\n<style scoped>\n    .dataframe tbody tr th:only-of-type {\n        vertical-align: middle;\n    }\n\n    .dataframe tbody tr th {\n        vertical-align: top;\n    }\n\n    .dataframe thead th {\n        text-align: right;\n    }\n</style>\n<table border=\"1\" class=\"dataframe\">\n  <thead>\n    <tr style=\"text-align: right;\">\n      <th></th>\n      <th>Category</th>\n      <th>Message</th>\n    </tr>\n  </thead>\n  <tbody>\n    <tr>\n      <th>0</th>\n      <td>ham</td>\n      <td>Go until jurong point, crazy.. Available only ...</td>\n    </tr>\n    <tr>\n      <th>1</th>\n      <td>ham</td>\n      <td>Ok lar... Joking wif u oni...</td>\n    </tr>\n    <tr>\n      <th>2</th>\n      <td>spam</td>\n      <td>Free entry in 2 a wkly comp to win FA Cup fina...</td>\n    </tr>\n    <tr>\n      <th>3</th>\n      <td>ham</td>\n      <td>U dun say so early hor... U c already then say...</td>\n    </tr>\n    <tr>\n      <th>4</th>\n      <td>ham</td>\n      <td>Nah I don't think he goes to usf, he lives aro...</td>\n    </tr>\n    <tr>\n      <th>...</th>\n      <td>...</td>\n      <td>...</td>\n    </tr>\n    <tr>\n      <th>5567</th>\n      <td>spam</td>\n      <td>This is the 2nd time we have tried 2 contact u...</td>\n    </tr>\n    <tr>\n      <th>5568</th>\n      <td>ham</td>\n      <td>Will ü b going to esplanade fr home?</td>\n    </tr>\n    <tr>\n      <th>5569</th>\n      <td>ham</td>\n      <td>Pity, * was in mood for that. So...any other s...</td>\n    </tr>\n    <tr>\n      <th>5570</th>\n      <td>ham</td>\n      <td>The guy did some bitching but I acted like i'd...</td>\n    </tr>\n    <tr>\n      <th>5571</th>\n      <td>ham</td>\n      <td>Rofl. Its true to its name</td>\n    </tr>\n  </tbody>\n</table>\n<p>5572 rows × 2 columns</p>\n</div>"
     },
     "execution_count": 3,
     "metadata": {},
     "output_type": "execute_result"
    }
   ],
   "source": [
    "df\n"
   ],
   "metadata": {
    "collapsed": false,
    "ExecuteTime": {
     "end_time": "2023-11-14T16:35:15.142669Z",
     "start_time": "2023-11-14T16:35:15.056715800Z"
    }
   },
   "id": "3f7422aae55df60d"
  },
  {
   "cell_type": "code",
   "execution_count": 5,
   "outputs": [
    {
     "data": {
      "text/plain": "array([[0., 0., 0., ..., 0., 0., 0.],\n       [0., 0., 0., ..., 0., 0., 0.],\n       [0., 0., 0., ..., 0., 0., 0.],\n       ...,\n       [0., 0., 0., ..., 0., 0., 0.],\n       [0., 0., 0., ..., 0., 0., 0.],\n       [0., 0., 0., ..., 0., 0., 0.]])"
     },
     "execution_count": 5,
     "metadata": {},
     "output_type": "execute_result"
    }
   ],
   "source": [
    "# A1\n",
    "# Two class problem, training a SVM on text classification dataset\n",
    "\n",
    "from sklearn import svm\n",
    "from sklearn.model_selection import train_test_split\n",
    "\n",
    "# Creating similar size samples of ham and spam\n",
    "ham = df[df['Category'] == 'ham']\n",
    "spam = df[df['Category'] == 'spam']\n",
    "ham = ham.sample(spam.shape[0])\n",
    "\n",
    "# Now combine these to form a dataset\n",
    "dataset = pd.concat([ham, spam], ignore_index=True)\n",
    "\n",
    "# Split for training and testing \n",
    "X_train, X_test, y_train, y_test = train_test_split(dataset['Message'], dataset['Category'], test_size=0.3)\n",
    "\n",
    "# Convert to numeric vector format for model\n",
    "from sklearn.feature_extraction.text import TfidfVectorizer\n",
    "tfid = TfidfVectorizer()\n",
    "X_train = tfid.fit_transform(X_train).toarray()\n",
    "X_test = tfid.transform(X_test).toarray()\n",
    "# y_train = tfid.transform(y_train).toarray()\n",
    "# y_test = tfid.transform(y_test).toarray()\n",
    "\n",
    "# Train the model\n",
    "svc_classifier = svm.SVC() # Kernel: rbf (radial-basis function) \n",
    "\n",
    "svc_classifier.fit(X_train, y_train)\n",
    "\n",
    "# Show the support vectors\n",
    "svc_classifier.support_vectors_"
   ],
   "metadata": {
    "collapsed": false,
    "ExecuteTime": {
     "end_time": "2023-11-14T16:35:23.336835Z",
     "start_time": "2023-11-14T16:35:20.286860100Z"
    }
   },
   "id": "bee72e58bf29fb65"
  },
  {
   "cell_type": "code",
   "execution_count": 6,
   "outputs": [
    {
     "name": "stdout",
     "output_type": "stream",
     "text": [
      "The accuracy is: 0.9599109131403119\n"
     ]
    }
   ],
   "source": [
    "# A2\n",
    "# Accuracy of model\n",
    "print(f\"The accuracy is: {svc_classifier.score(X_test, y_test)}\")"
   ],
   "metadata": {
    "collapsed": false,
    "ExecuteTime": {
     "end_time": "2023-11-14T16:36:17.416599400Z",
     "start_time": "2023-11-14T16:36:14.536964900Z"
    }
   },
   "id": "f53606229353b675"
  },
  {
   "cell_type": "code",
   "execution_count": 7,
   "outputs": [
    {
     "data": {
      "text/plain": "     Actual Values Predicted Values\n1458          spam             spam\n1465          spam             spam\n1469          spam              ham\n1472          spam             spam\n1474          spam             spam\n1483          spam             spam\n1488          spam             spam\n1489          spam             spam\n1491          spam             spam\n1492          spam             spam",
      "text/html": "<div>\n<style scoped>\n    .dataframe tbody tr th:only-of-type {\n        vertical-align: middle;\n    }\n\n    .dataframe tbody tr th {\n        vertical-align: top;\n    }\n\n    .dataframe thead th {\n        text-align: right;\n    }\n</style>\n<table border=\"1\" class=\"dataframe\">\n  <thead>\n    <tr style=\"text-align: right;\">\n      <th></th>\n      <th>Actual Values</th>\n      <th>Predicted Values</th>\n    </tr>\n  </thead>\n  <tbody>\n    <tr>\n      <th>1458</th>\n      <td>spam</td>\n      <td>spam</td>\n    </tr>\n    <tr>\n      <th>1465</th>\n      <td>spam</td>\n      <td>spam</td>\n    </tr>\n    <tr>\n      <th>1469</th>\n      <td>spam</td>\n      <td>ham</td>\n    </tr>\n    <tr>\n      <th>1472</th>\n      <td>spam</td>\n      <td>spam</td>\n    </tr>\n    <tr>\n      <th>1474</th>\n      <td>spam</td>\n      <td>spam</td>\n    </tr>\n    <tr>\n      <th>1483</th>\n      <td>spam</td>\n      <td>spam</td>\n    </tr>\n    <tr>\n      <th>1488</th>\n      <td>spam</td>\n      <td>spam</td>\n    </tr>\n    <tr>\n      <th>1489</th>\n      <td>spam</td>\n      <td>spam</td>\n    </tr>\n    <tr>\n      <th>1491</th>\n      <td>spam</td>\n      <td>spam</td>\n    </tr>\n    <tr>\n      <th>1492</th>\n      <td>spam</td>\n      <td>spam</td>\n    </tr>\n  </tbody>\n</table>\n</div>"
     },
     "execution_count": 7,
     "metadata": {},
     "output_type": "execute_result"
    }
   ],
   "source": [
    "# A3\n",
    "# Comparing true values with predicted values using trained SVM classifier \n",
    "\n",
    "prediction_dframe = pd.DataFrame()\n",
    "\n",
    "prediction_dframe['Actual Values'] = y_test\n",
    "\n",
    "# Predict values of test data\n",
    "y_pred = svc_classifier.predict(X_test)\n",
    "prediction_dframe['Predicted Values'] = y_pred\n",
    "\n",
    "# Show dataframe comparing actual and predicted values\n",
    "prediction_dframe.sort_index(axis=0).tail(10)"
   ],
   "metadata": {
    "collapsed": false,
    "ExecuteTime": {
     "end_time": "2023-11-14T16:36:34.257883100Z",
     "start_time": "2023-11-14T16:36:32.209805Z"
    }
   },
   "id": "97b81c3e4aed2e70"
  },
  {
   "cell_type": "code",
   "execution_count": 8,
   "outputs": [
    {
     "name": "stdout",
     "output_type": "stream",
     "text": [
      "The accuracy for kernel 'rbf' is: 0.9599109131403119\n",
      "Accuracy score of kernel 'linear' is: 0.9599109131403119\n"
     ]
    }
   ],
   "source": [
    "# A4\n",
    "# Various kernel functions : linear, poly, rbf, sigmoid\n",
    "# Kernel function:  The function of kernel is to take data as input and transform it into \n",
    "# the required form. \n",
    "# Rbf is default kernel hence we have already observed the accuracy above\n",
    "print(f\"The accuracy for kernel 'rbf' is: {svc_classifier.score(X_test, y_test)}\")\n",
    "\n",
    "# Train and fit the model for linear kernel function\n",
    "kernel_name = \"linear\"\n",
    "svc_linear = svm.SVC(kernel=kernel_name)\n",
    "svc_linear.fit(X_train, y_train)\n",
    "\n",
    "# Accuracy score\n",
    "print(f\"Accuracy score of kernel '{kernel_name}' is: {svc_linear.score(X_test, y_test)}\")"
   ],
   "metadata": {
    "collapsed": false,
    "ExecuteTime": {
     "end_time": "2023-11-14T16:36:53.948422300Z",
     "start_time": "2023-11-14T16:36:49.239273200Z"
    }
   },
   "id": "f490eccf9688dc4"
  },
  {
   "cell_type": "code",
   "execution_count": 9,
   "outputs": [
    {
     "name": "stdout",
     "output_type": "stream",
     "text": [
      "Accuracy score of kernel 'poly' is: 0.8752783964365256\n"
     ]
    }
   ],
   "source": [
    "# Train and fit the model for poly kernel function\n",
    "kernel_name = \"poly\"\n",
    "svc_poly = svm.SVC(kernel=kernel_name)\n",
    "svc_poly.fit(X_train, y_train)\n",
    "\n",
    "# Accuracy score\n",
    "print(f\"Accuracy score of kernel '{kernel_name}' is: {svc_poly.score(X_test, y_test)}\")"
   ],
   "metadata": {
    "collapsed": false,
    "ExecuteTime": {
     "end_time": "2023-11-14T16:37:11.657951600Z",
     "start_time": "2023-11-14T16:37:07.016660800Z"
    }
   },
   "id": "4d0b92e8434cc923"
  },
  {
   "cell_type": "code",
   "execution_count": 10,
   "outputs": [
    {
     "name": "stdout",
     "output_type": "stream",
     "text": [
      "Accuracy score of kernel 'sigmoid' is: 0.9621380846325167\n"
     ]
    }
   ],
   "source": [
    "# Train and fit the model for sigmoid kernel function\n",
    "kernel_name = \"sigmoid\"\n",
    "svc_sigmoid = svm.SVC(kernel=kernel_name)\n",
    "svc_sigmoid.fit(X_train, y_train)\n",
    "\n",
    "# Accuracy score\n",
    "print(f\"Accuracy score of kernel '{kernel_name}' is: {svc_sigmoid.score(X_test, y_test)}\")"
   ],
   "metadata": {
    "collapsed": false,
    "ExecuteTime": {
     "end_time": "2023-11-14T16:37:31.218164300Z",
     "start_time": "2023-11-14T16:37:28.666857300Z"
    }
   },
   "id": "b75cbb0f3638624b"
  }
 ],
 "metadata": {
  "kernelspec": {
   "display_name": "Python 3",
   "language": "python",
   "name": "python3"
  },
  "language_info": {
   "codemirror_mode": {
    "name": "ipython",
    "version": 2
   },
   "file_extension": ".py",
   "mimetype": "text/x-python",
   "name": "python",
   "nbconvert_exporter": "python",
   "pygments_lexer": "ipython2",
   "version": "2.7.6"
  }
 },
 "nbformat": 4,
 "nbformat_minor": 5
}
