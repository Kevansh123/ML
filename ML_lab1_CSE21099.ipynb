{
  "nbformat": 4,
  "nbformat_minor": 0,
  "metadata": {
    "colab": {
      "provenance": []
    },
    "kernelspec": {
      "name": "python3",
      "display_name": "Python 3"
    },
    "language_info": {
      "name": "python"
    }
  },
  "cells": [
    {
      "cell_type": "code",
      "execution_count": 12,
      "metadata": {
        "id": "s6sOCssRt8Y7"
      },
      "outputs": [],
      "source": [
        "import pandas as pd\n",
        "import numpy as np\n",
        "data = pd.ExcelFile('/content/lab1data.xlsx')\n",
        "df = pd.read_excel(data, 'Purchase data')\n",
        "df_s = pd.read_excel(data, 'IRCTC Stock Price')"
      ]
    },
    {
      "cell_type": "code",
      "source": [
        "data = pd.read_excel('lab1data.xlsx', sheet_name='Purchase data')\n",
        "\n"
      ],
      "metadata": {
        "id": "3HeWLimTuG9X"
      },
      "execution_count": 13,
      "outputs": []
    },
    {
      "cell_type": "code",
      "source": [
        "df.drop(df.iloc[:,5:],inplace = True , axis=1)\n",
        "print(df)\n",
        "A = (df.iloc[:, 1:4]).to_numpy()\n",
        "C = (df.iloc[:, -1]).to_numpy()\n",
        "print(A)\n",
        "print(C)"
      ],
      "metadata": {
        "colab": {
          "base_uri": "https://localhost:8080/"
        },
        "id": "jq2JtsPhuMMf",
        "outputId": "36cc79e2-b3fd-4424-e4bf-b498b118038e"
      },
      "execution_count": 14,
      "outputs": [
        {
          "output_type": "stream",
          "name": "stdout",
          "text": [
            "  Customer  Candies (#)  Mangoes (Kg)  Milk Packets (#)  Payment (Rs)\n",
            "0      C_1           20             6                 2           386\n",
            "1      C_2           16             3                 6           289\n",
            "2      C_3           27             6                 2           393\n",
            "3      C_4           19             1                 2           110\n",
            "4      C_5           24             4                 2           280\n",
            "5      C_6           22             1                 5           167\n",
            "6      C_7           15             4                 2           271\n",
            "7      C_8           18             4                 2           274\n",
            "8      C_9           21             1                 4           148\n",
            "9     C_10           16             2                 4           198\n",
            "[[20  6  2]\n",
            " [16  3  6]\n",
            " [27  6  2]\n",
            " [19  1  2]\n",
            " [24  4  2]\n",
            " [22  1  5]\n",
            " [15  4  2]\n",
            " [18  4  2]\n",
            " [21  1  4]\n",
            " [16  2  4]]\n",
            "[386 289 393 110 280 167 271 274 148 198]\n"
          ]
        }
      ]
    },
    {
      "cell_type": "code",
      "source": [
        "dimension = A.shape[1]\n",
        "print(dimension)\n",
        "print(\"Dimension = \",dimension)\n",
        "num_vectors = A.shape[0]\n",
        "print(\"Number of Vectors = \",num_vectors)"
      ],
      "metadata": {
        "colab": {
          "base_uri": "https://localhost:8080/"
        },
        "id": "ZfWNvCBnuPe6",
        "outputId": "90399e1e-4e1e-4433-d834-785dcc8e3b8b"
      },
      "execution_count": 15,
      "outputs": [
        {
          "output_type": "stream",
          "name": "stdout",
          "text": [
            "3\n",
            "Dimension =  3\n",
            "Number of Vectors =  10\n"
          ]
        }
      ]
    },
    {
      "cell_type": "code",
      "source": [
        "rank_A = np.linalg.matrix_rank(A)\n",
        "print(\"Rank = \" ,rank_A)\n",
        "\n",
        "inv_A = np.linalg.pinv(A)\n",
        "cost_vector = np.dot(inv_A, C)"
      ],
      "metadata": {
        "colab": {
          "base_uri": "https://localhost:8080/"
        },
        "id": "jw6_29hVuT4V",
        "outputId": "f564e6d9-d1f8-4b29-d365-22a3594cd966"
      },
      "execution_count": 16,
      "outputs": [
        {
          "output_type": "stream",
          "name": "stdout",
          "text": [
            "Rank =  3\n"
          ]
        }
      ]
    },
    {
      "cell_type": "code",
      "source": [
        "print(cost_vector)"
      ],
      "metadata": {
        "colab": {
          "base_uri": "https://localhost:8080/"
        },
        "id": "jq1Mif99uXEP",
        "outputId": "066b08a7-de32-4ca2-d9a2-7b858f4b793d"
      },
      "execution_count": 17,
      "outputs": [
        {
          "output_type": "stream",
          "name": "stdout",
          "text": [
            "[ 1. 55. 18.]\n"
          ]
        }
      ]
    },
    {
      "cell_type": "code",
      "source": [
        "wealth = []\n",
        "\n",
        "for i in C:\n",
        "    if i > 200:\n",
        "        wealth.append(\"RICH\")\n",
        "    else:\n",
        "        wealth.append(\"POOR\")\n",
        "print(wealth)\n"
      ],
      "metadata": {
        "colab": {
          "base_uri": "https://localhost:8080/"
        },
        "id": "IfwfnGlYuaVh",
        "outputId": "61c41d33-7230-41ff-ac92-4fa6029e5d9a"
      },
      "execution_count": 18,
      "outputs": [
        {
          "output_type": "stream",
          "name": "stdout",
          "text": [
            "['RICH', 'RICH', 'RICH', 'POOR', 'RICH', 'POOR', 'RICH', 'RICH', 'POOR', 'POOR']\n"
          ]
        }
      ]
    },
    {
      "cell_type": "code",
      "source": [
        "df['Economic Status'] = wealth\n",
        "print(df)\n",
        "\n",
        "\n",
        "\n",
        "print(df_s)\n"
      ],
      "metadata": {
        "colab": {
          "base_uri": "https://localhost:8080/"
        },
        "id": "KQkFRd7yuddl",
        "outputId": "1d05c727-cd92-4f3f-d266-0d68f44086c8"
      },
      "execution_count": 19,
      "outputs": [
        {
          "output_type": "stream",
          "name": "stdout",
          "text": [
            "  Customer  Candies (#)  Mangoes (Kg)  Milk Packets (#)  Payment (Rs)  \\\n",
            "0      C_1           20             6                 2           386   \n",
            "1      C_2           16             3                 6           289   \n",
            "2      C_3           27             6                 2           393   \n",
            "3      C_4           19             1                 2           110   \n",
            "4      C_5           24             4                 2           280   \n",
            "5      C_6           22             1                 5           167   \n",
            "6      C_7           15             4                 2           271   \n",
            "7      C_8           18             4                 2           274   \n",
            "8      C_9           21             1                 4           148   \n",
            "9     C_10           16             2                 4           198   \n",
            "\n",
            "  Economic Status  \n",
            "0            RICH  \n",
            "1            RICH  \n",
            "2            RICH  \n",
            "3            POOR  \n",
            "4            RICH  \n",
            "5            POOR  \n",
            "6            RICH  \n",
            "7            RICH  \n",
            "8            POOR  \n",
            "9            POOR  \n",
            "             Date Month  Day    Price     Open     High      Low   Volume  \\\n",
            "0    Jun 29, 2021   Jun  Tue  2081.85  2092.00  2126.90  2065.05    1.67M   \n",
            "1    Jun 28, 2021   Jun  Mon  2077.75  2084.00  2112.45  2068.40  707.73K   \n",
            "2    Jun 25, 2021   Jun  Fri  2068.85  2084.35  2088.50  2053.10  475.82K   \n",
            "3    Jun 24, 2021   Jun  Thu  2072.95  2098.00  2098.00  2066.00  541.51K   \n",
            "4    Jun 23, 2021   Jun  Wed  2078.25  2102.00  2111.40  2072.00  809.62K   \n",
            "..            ...   ...  ...      ...      ...      ...      ...      ...   \n",
            "244  Jul 07, 2020   Jul  Tue  1397.40  1410.00  1411.00  1390.05  480.21K   \n",
            "245  Jul 06, 2020   Jul  Mon  1400.75  1405.50  1415.50  1394.00  614.93K   \n",
            "246  Jul 03, 2020   Jul  Fri  1405.10  1415.00  1425.00  1398.00  599.49K   \n",
            "247  Jul 02, 2020   Jul  Thu  1412.35  1440.00  1467.80  1395.30    2.16M   \n",
            "248  Jul 01, 2020   Jul  Wed  1363.05  1363.65  1377.00  1356.00  383.00K   \n",
            "\n",
            "       Chg%  \n",
            "0    0.0020  \n",
            "1    0.0043  \n",
            "2   -0.0020  \n",
            "3   -0.0026  \n",
            "4   -0.0023  \n",
            "..      ...  \n",
            "244 -0.0024  \n",
            "245 -0.0031  \n",
            "246 -0.0051  \n",
            "247  0.0362  \n",
            "248  0.0032  \n",
            "\n",
            "[249 rows x 9 columns]\n"
          ]
        }
      ]
    },
    {
      "cell_type": "code",
      "source": [
        "variance = df_s['Price'].var()\n",
        "mean = df_s['Price'].mean()\n",
        "print(\"Variance: \", variance, \", Mean: \", mean)\n",
        "\n",
        "df_s_wed = df_s.loc[df_s['Day'] == \"Wed\"]\n",
        "print(df_s_wed)"
      ],
      "metadata": {
        "colab": {
          "base_uri": "https://localhost:8080/"
        },
        "id": "SDhr5VGUvy10",
        "outputId": "3f77bd53-af59-4171-f691-9ef951eb3270"
      },
      "execution_count": 20,
      "outputs": [
        {
          "output_type": "stream",
          "name": "stdout",
          "text": [
            "Variance:  58732.36535253918 , Mean:  1560.6634538152612\n",
            "             Date Month  Day    Price     Open     High      Low   Volume  \\\n",
            "4    Jun 23, 2021   Jun  Wed  2078.25  2102.00  2111.40  2072.00  809.62K   \n",
            "9    Jun 16, 2021   Jun  Wed  2089.95  2109.45  2121.95  2075.30  856.94K   \n",
            "14   Jun 09, 2021   Jun  Wed  2071.20  2160.00  2163.00  2060.00    2.34M   \n",
            "19   Jun 02, 2021   Jun  Wed  1917.95  1899.95  1927.50  1895.25  576.76K   \n",
            "24   May 26, 2021   May  Wed  1894.05  1920.00  1930.05  1888.00  922.76K   \n",
            "29   May 19, 2021   May  Wed  1858.10  1844.00  1884.95  1840.00    2.10M   \n",
            "33   May 12, 2021   May  Wed  1746.60  1799.00  1829.00  1732.80    1.63M   \n",
            "38   May 05, 2021   May  Wed  1723.65  1775.00  1782.95  1715.00    1.22M   \n",
            "43   Apr 28, 2021   Apr  Wed  1795.85  1800.00  1818.00  1775.00    1.54M   \n",
            "56   Apr 07, 2021   Apr  Wed  1709.00  1684.20  1721.40  1673.00    1.47M   \n",
            "60   Mar 31, 2021   Mar  Wed  1757.00  1758.70  1774.95  1735.00    1.09M   \n",
            "64   Mar 24, 2021   Mar  Wed  1760.55  1829.70  1836.80  1750.40    2.09M   \n",
            "69   Mar 17, 2021   Mar  Wed  1824.00  1905.00  1919.45  1801.00    2.36M   \n",
            "73   Mar 10, 2021   Mar  Wed  2018.50  2045.00  2047.80  2007.00    1.70M   \n",
            "78   Mar 03, 2021   Mar  Wed  1886.10  1899.00  1930.00  1880.00    1.83M   \n",
            "83   Feb 24, 2021   Feb  Wed  1675.45  1638.00  1697.00  1630.10  647.09K   \n",
            "88   Feb 17, 2021   Feb  Wed  1698.65  1672.00  1730.00  1657.00    2.09M   \n",
            "93   Feb 10, 2021   Feb  Wed  1618.40  1648.40  1674.00  1611.10    3.05M   \n",
            "98   Feb 03, 2021   Feb  Wed  1469.35  1477.40  1498.00  1462.15    1.86M   \n",
            "103  Jan 27, 2021   Jan  Wed  1438.25  1432.75  1443.65  1422.25  823.11K   \n",
            "107  Jan 20, 2021   Jan  Wed  1452.70  1450.00  1458.40  1437.00  574.12K   \n",
            "112  Jan 13, 2021   Jan  Wed  1461.15  1492.00  1493.55  1442.20    1.18M   \n",
            "117  Jan 06, 2021   Jan  Wed  1483.45  1461.95  1514.90  1449.00    4.24M   \n",
            "122  Dec 30, 2020   Dec  Wed  1434.95  1420.00  1443.00  1408.00    1.64M   \n",
            "126  Dec 23, 2020   Dec  Wed  1411.55  1404.40  1423.50  1379.05    1.63M   \n",
            "131  Dec 16, 2020   Dec  Wed  1423.40  1453.80  1455.90  1420.00    3.56M   \n",
            "136  Dec 09, 2020   Dec  Wed  1617.75  1666.60  1701.25  1601.00    3.69M   \n",
            "141  Dec 02, 2020   Dec  Wed  1349.90  1368.00  1368.80  1346.55  186.84K   \n",
            "145  Nov 25, 2020   Nov  Wed  1353.90  1370.00  1370.00  1353.00  189.93K   \n",
            "150  Nov 18, 2020   Nov  Wed  1365.30  1365.00  1370.95  1352.10  312.00K   \n",
            "154  Nov 11, 2020   Nov  Wed  1371.25  1398.00  1407.00  1343.00  611.90K   \n",
            "159  Nov 04, 2020   Nov  Wed  1300.55  1292.85  1308.80  1290.05  128.50K   \n",
            "164  Oct 28, 2020   Oct  Wed  1333.35  1324.00  1339.00  1310.00  185.02K   \n",
            "169  Oct 21, 2020   Oct  Wed  1331.75  1336.55  1343.90  1328.00  156.43K   \n",
            "174  Oct 14, 2020   Oct  Wed  1338.05  1350.00  1357.60  1331.00  346.04K   \n",
            "179  Oct 07, 2020   Oct  Wed  1356.90  1370.00  1376.50  1349.00  393.99K   \n",
            "183  Sep 30, 2020   Sep  Wed  1384.00  1383.40  1419.50  1368.70  637.11K   \n",
            "188  Sep 23, 2020   Sep  Wed  1372.85  1365.00  1380.00  1353.25  274.75K   \n",
            "193  Sep 16, 2020   Sep  Wed  1367.40  1376.00  1377.00  1364.00  232.14K   \n",
            "198  Sep 09, 2020   Sep  Wed  1348.90  1350.00  1358.70  1321.15    1.90M   \n",
            "203  Sep 02, 2020   Sep  Wed  1359.75  1363.00  1369.90  1353.10  246.51K   \n",
            "208  Aug 26, 2020   Aug  Wed  1369.30  1345.05  1387.20  1342.20    1.10M   \n",
            "213  Aug 19, 2020   Aug  Wed  1361.80  1386.00  1402.00  1338.00    1.28M   \n",
            "218  Aug 12, 2020   Aug  Wed  1386.80  1350.00  1414.00  1350.00    1.76M   \n",
            "223  Aug 05, 2020   Aug  Wed  1336.95  1345.00  1347.00  1335.00  221.23K   \n",
            "228  Jul 29, 2020   Jul  Wed  1352.75  1345.00  1369.00  1343.05  385.50K   \n",
            "233  Jul 22, 2020   Jul  Wed  1372.95  1395.00  1398.70  1370.00  458.14K   \n",
            "238  Jul 15, 2020   Jul  Wed  1351.95  1365.15  1379.00  1350.00  554.12K   \n",
            "243  Jul 08, 2020   Jul  Wed  1390.10  1397.00  1413.35  1384.60  472.31K   \n",
            "248  Jul 01, 2020   Jul  Wed  1363.05  1363.65  1377.00  1356.00  383.00K   \n",
            "\n",
            "       Chg%  \n",
            "4   -0.0023  \n",
            "9   -0.0038  \n",
            "14  -0.0343  \n",
            "19   0.0123  \n",
            "24  -0.0073  \n",
            "29   0.0126  \n",
            "33  -0.0255  \n",
            "38  -0.0263  \n",
            "43   0.0015  \n",
            "56   0.0121  \n",
            "60   0.0010  \n",
            "64  -0.0443  \n",
            "69  -0.0420  \n",
            "73  -0.0040  \n",
            "78  -0.0061  \n",
            "83   0.0261  \n",
            "88   0.0146  \n",
            "93  -0.0142  \n",
            "98  -0.0008  \n",
            "103  0.0084  \n",
            "107  0.0064  \n",
            "112 -0.0130  \n",
            "117  0.0183  \n",
            "122  0.0171  \n",
            "126  0.0089  \n",
            "131 -0.0122  \n",
            "136 -0.0187  \n",
            "141 -0.0060  \n",
            "145 -0.0062  \n",
            "150 -0.0109  \n",
            "154 -0.0023  \n",
            "159 -0.0007  \n",
            "164  0.0055  \n",
            "169 -0.0003  \n",
            "174  0.0012  \n",
            "179 -0.0051  \n",
            "183  0.0005  \n",
            "188  0.0127  \n",
            "193 -0.0018  \n",
            "198 -0.0221  \n",
            "203  0.0061  \n",
            "208  0.0205  \n",
            "213 -0.0115  \n",
            "218  0.0108  \n",
            "223 -0.0021  \n",
            "228  0.0054  \n",
            "233 -0.0124  \n",
            "238 -0.0075  \n",
            "243 -0.0052  \n",
            "248  0.0032  \n"
          ]
        }
      ]
    },
    {
      "cell_type": "code",
      "source": [
        "mean_wed = df_s_wed['Price'].mean()\n",
        "\n",
        "\n",
        "print(\"Mean_Wed: \", mean_wed, \"Mean: \", mean)\n",
        "\n",
        "df_s_Apr = df_s.loc[df_s['Month'] == \"Apr\"]\n",
        "mean_Apr = df_s_Apr['Price'].mean()\n",
        "print(\"Mean_Apr: \", mean_Apr, \"Mean: \", mean)"
      ],
      "metadata": {
        "colab": {
          "base_uri": "https://localhost:8080/"
        },
        "id": "xQW1XMMTv1q3",
        "outputId": "dc61f033-aac5-40ea-ffc7-c140446a3efc"
      },
      "execution_count": 21,
      "outputs": [
        {
          "output_type": "stream",
          "name": "stdout",
          "text": [
            "Mean_Wed:  1550.7060000000001 Mean:  1560.6634538152612\n",
            "Mean_Apr:  1698.9526315789474 Mean:  1560.6634538152612\n"
          ]
        }
      ]
    },
    {
      "cell_type": "code",
      "source": [
        "lst_chg = df_s['Chg%'].tolist()\n",
        "lst_chg_neg = list(filter(lambda x: (x < 0), lst_chg))\n",
        "print(\"Probability = \", len(lst_chg_neg)/len(lst_chg))"
      ],
      "metadata": {
        "colab": {
          "base_uri": "https://localhost:8080/"
        },
        "id": "1EhySZNnv4Av",
        "outputId": "7c71591e-04b9-40ac-c730-766eef3d3511"
      },
      "execution_count": 22,
      "outputs": [
        {
          "output_type": "stream",
          "name": "stdout",
          "text": [
            "Probability =  0.4979919678714859\n"
          ]
        }
      ]
    },
    {
      "cell_type": "code",
      "source": [
        "lst_chg_wed = df_s_wed['Chg%'].tolist()\n",
        "lst_chg_wed_pos = list(filter(lambda x: (x > 0), lst_chg_wed))\n",
        "print(\"Probability = \", len(lst_chg_wed_pos)/len(lst_chg_wed))"
      ],
      "metadata": {
        "colab": {
          "base_uri": "https://localhost:8080/"
        },
        "id": "IM0DljKgv6yw",
        "outputId": "dc5c3ff0-a20b-404e-a3dd-495398bfadd2"
      },
      "execution_count": 23,
      "outputs": [
        {
          "output_type": "stream",
          "name": "stdout",
          "text": [
            "Probability =  0.42\n"
          ]
        }
      ]
    },
    {
      "cell_type": "code",
      "source": [
        "df_s.plot.scatter(\"Day\", \"Chg%\")"
      ],
      "metadata": {
        "colab": {
          "base_uri": "https://localhost:8080/",
          "height": 469
        },
        "id": "EHXHJI3Mv-nA",
        "outputId": "c620c34f-ff1e-4b88-8ce2-9aa4e25b6559"
      },
      "execution_count": 24,
      "outputs": [
        {
          "output_type": "execute_result",
          "data": {
            "text/plain": [
              "<Axes: xlabel='Day', ylabel='Chg%'>"
            ]
          },
          "metadata": {},
          "execution_count": 24
        },
        {
          "output_type": "display_data",
          "data": {
            "text/plain": [
              "<Figure size 640x480 with 1 Axes>"
            ],
            "image/png": "[encoded data removed]"
          },
          "metadata": {}
        }
      ]
    }
  ]
}